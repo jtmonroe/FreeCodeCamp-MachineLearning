{
  "cells": [
    {
      "cell_type": "markdown",
      "metadata": {
        "id": "view-in-github",
        "colab_type": "text"
      },
      "source": [
        "<a href=\"https://colab.research.google.com/github/jtmonroe/FreeCodeCamp-MachineLearning/blob/main/fcc_predict_health_costs_with_regression.ipynb\" target=\"_parent\"><img src=\"https://colab.research.google.com/assets/colab-badge.svg\" alt=\"Open In Colab\"/></a>"
      ]
    },
    {
      "cell_type": "code",
      "execution_count": null,
      "metadata": {
        "id": "1rRo8oNqZ-Rj"
      },
      "outputs": [],
      "source": [
        "# Import libraries. You may or may not use all of these.\n",
        "!pip install -q git+https://github.com/tensorflow/docs\n",
        "import matplotlib.pyplot as plt\n",
        "import numpy as np\n",
        "import pandas as pd\n",
        "\n",
        "import tensorflow as tf\n",
        "\n",
        "from tensorflow import keras\n",
        "from tensorflow.keras import layers, Sequential\n",
        "\n",
        "import tensorflow_docs as tfdocs\n",
        "import tensorflow_docs.plots\n",
        "import tensorflow_docs.modeling\n",
        "\n",
        "from scipy.stats import norm\n",
        "\n",
        "def first(iterable):\n",
        "  return next(iter(iterable))"
      ]
    },
    {
      "cell_type": "markdown",
      "source": [
        "# Linear Regression Health Costs Calculator\n",
        "\n",
        "## Introduction\n",
        "\n",
        "In this challenge, you will predict healthcare costs using a regression algorithm.\n",
        "\n",
        "You are given a dataset that contains information about different people including their healthcare costs. Use the data to predict healthcare costs based on new data.\n",
        "\n",
        "The first two cells of this notebook import libraries and the data.\n",
        "\n",
        "Make sure to convert categorical data to numbers. Use 80% of the data as the train_dataset and 20% of the data as the test_dataset.\n",
        "\n",
        "pop off the \"expenses\" column from these datasets to create new datasets called train_labels and test_labels. Use these labels when training your model.\n",
        "\n",
        "Create a model and train it with the train_dataset. Run the final cell in this notebook to check your model. The final cell will use the unseen test_dataset to check how well the model generalizes.\n",
        "\n",
        "To pass the challenge, model.evaluate must return a Mean Absolute Error of under 3500. This means it predicts health care costs correctly within $3500.\n",
        "\n",
        "The final cell will also predict expenses using the test_dataset and graph the results."
      ],
      "metadata": {
        "id": "57-bfPOQfvbP"
      }
    },
    {
      "cell_type": "code",
      "execution_count": null,
      "metadata": {
        "id": "CiX2FI4gZtTt"
      },
      "outputs": [],
      "source": [
        "# Import data\n",
        "!wget https://cdn.freecodecamp.org/project-data/health-costs/insurance.csv\n",
        "dataset = pd.read_csv('insurance.csv')\n",
        "dataset.tail()"
      ]
    },
    {
      "cell_type": "markdown",
      "source": [
        "# Understanding the Data\n"
      ],
      "metadata": {
        "id": "KZI1Ys7ewgWw"
      }
    },
    {
      "cell_type": "markdown",
      "source": [
        "## Data Munging\n",
        "\n",
        "First we try to understand the datasets through a series of plots and getting to know the datatypes. We will transform `sex` and `smoker` to `0, 1`. However, the `region` variable has 4 unique values. As a result, we will need to introduct `4-1` new columns; one for each region.\n",
        "\n",
        "Note that we will be using a fun trick to avoid variable pollution. We do not need ALL the variables from EVERY cell, so we use `_func` pattern to only get back what we need."
      ],
      "metadata": {
        "id": "O8DRjDul0FGP"
      }
    },
    {
      "cell_type": "code",
      "execution_count": null,
      "metadata": {
        "id": "LcopvQh3X-kX"
      },
      "outputs": [],
      "source": [
        "print(f\"Unique Regions: {dataset.region.unique()}\")\n",
        "dataset.apply(lambda x: x.dtype).T"
      ]
    },
    {
      "cell_type": "code",
      "source": [
        "def _mutate_dataset(df: pd.DataFrame) -> pd.DataFrame:\n",
        "  cp_df = df.copy()\n",
        "  cp_df['sex'] = dataset.sex.apply(lambda x: int(x.lower() == \"male\"))\n",
        "  cp_df['smoker'] = dataset.sex.apply(lambda x: int(x.lower() == \"male\"))\n",
        "  cp_df = pd.get_dummies(cp_df, columns=[\"region\"], prefix=\"\", prefix_sep=\"\", dtype=int)\n",
        "  cp_df.drop(columns = first(dataset.region.unique()), inplace=True)\n",
        "  return cp_df\n",
        "\n",
        "prepped_dataset = _mutate_dataset(dataset)\n",
        "prepped_dataset"
      ],
      "metadata": {
        "id": "zS5JeVlR0yXc"
      },
      "execution_count": null,
      "outputs": []
    },
    {
      "cell_type": "markdown",
      "source": [
        "## Plots"
      ],
      "metadata": {
        "id": "A1CHCzUd4ml1"
      }
    },
    {
      "cell_type": "markdown",
      "source": [
        "### Non-Categorical Data"
      ],
      "metadata": {
        "id": "8P8tcgvS0Bpp"
      }
    },
    {
      "cell_type": "code",
      "source": [
        "def _non_categorical_plots(dataset):\n",
        "  from itertools import product\n",
        "\n",
        "  def plot(series, ax):\n",
        "    series.plot.hist(ax=ax, bins=30, density=True, xlabel=series.name, cmap=\"Dark2\", label=\"hist\")\n",
        "    mean, sd = norm.fit(series)\n",
        "    x = np.linspace(series.min(), series.max(), 100)\n",
        "    ax.plot(x, norm.pdf(x, mean, sd), label=\"normal\")\n",
        "    twinAx = ax.twinx()\n",
        "    series.plot.kde(ax=twinAx, color=\"orange\", ind=x, label=\"kde\")\n",
        "\n",
        "    lines1, labels1 = ax.get_legend_handles_labels()\n",
        "    lines2, labels2 = twinAx.get_legend_handles_labels()\n",
        "\n",
        "    ax.legend(lines1 + lines2, labels1 + labels2)\n",
        "\n",
        "  fig, ((ax00, ax01), (ax10, ax11), (ax20, empty)) = plt.subplots(3, 2, figsize=(20, 12))\n",
        "  empty.axis('off')\n",
        "\n",
        "  plot(dataset.age, ax00)\n",
        "  plot(dataset.bmi, ax01)\n",
        "  plot(dataset.expenses, ax11)\n",
        "  plot(dataset.children, ax10)\n",
        "\n",
        "\n",
        "  columns = [\"age\", \"bmi\", \"expenses\", \"children\"]\n",
        "  corr_mat = dataset[columns].corr()\n",
        "  ax20.imshow(corr_mat, cmap=\"Dark2\")\n",
        "\n",
        "  axis_tics = np.arange(len(columns))\n",
        "  ax20.set_xticks(axis_tics)\n",
        "  ax20.set_yticks(axis_tics)\n",
        "  ax20.set_xticklabels(columns)\n",
        "  ax20.set_yticklabels(columns)\n",
        "\n",
        "  for i, j in product(*map(range, corr_mat.shape)):\n",
        "    ax20.text(j, i, round(corr_mat.iloc[i,j], 4), ha=\"center\", va=\"center\", color='w')\n",
        "\n",
        "  fig.suptitle(\"Continous Correlations\", fontsize=24)\n",
        "  return fig\n",
        "\n",
        "_ = _non_categorical_plots(prepped_dataset)"
      ],
      "metadata": {
        "id": "qd2d5F1Bi34w"
      },
      "execution_count": null,
      "outputs": []
    },
    {
      "cell_type": "markdown",
      "source": [
        "Out of curiousity, we plot our data to get a sense for its distribution, and quickly see that our continuous variables are not normally distributed. We could do a test, but we can pretty clearly see that, for expenses and age, we are VERY far from the kde. We do, much more importantly, see that the columns are not at all correlated. Age and expenses are slightly correlated, but not enough to mean anything.\n",
        "\n",
        "### Discrete Data\n",
        "\n",
        "Note that we are going to use the original dataset since the plots will bin prettier."
      ],
      "metadata": {
        "id": "mzedsOdLpbhr"
      }
    },
    {
      "cell_type": "code",
      "source": [
        "def _categorical_plots(dataset):\n",
        "  def plot(series, ax):\n",
        "    series.value_counts().plot.bar(ax=ax, xlabel=series.name)\n",
        "\n",
        "  fig, ((ax00, ax01), (ax10, ax11)) = plt.subplots(2, 2, figsize=(12, 9))\n",
        "\n",
        "  plot(dataset.children, ax00)\n",
        "  plot(dataset.sex, ax01)\n",
        "  plot(dataset.smoker, ax10)\n",
        "  plot(dataset.region, ax11)\n",
        "\n",
        "_categorical_plots(dataset)"
      ],
      "metadata": {
        "id": "PI_r62TVp8ub"
      },
      "execution_count": null,
      "outputs": []
    },
    {
      "cell_type": "code",
      "source": [
        "labels = prepped_dataset.expenses.values\n",
        "features = prepped_dataset.drop(columns = \"expenses\").values\n",
        "\n",
        "tf_dataset = tf.data.Dataset.from_tensor_slices((features, labels))\n",
        "train_percent = 0.8\n",
        "(train, test) = keras.utils.split_dataset(\n",
        "    tf_dataset, train_percent, 1 - train_percent\n",
        ")\n",
        "print(train)\n"
      ],
      "metadata": {
        "id": "TWUC1F696Pty"
      },
      "execution_count": null,
      "outputs": []
    },
    {
      "cell_type": "markdown",
      "source": [
        "# Building the Model"
      ],
      "metadata": {
        "id": "Cx2NXRfL5dph"
      }
    },
    {
      "cell_type": "code",
      "source": [
        "model = Sequential([\n",
        "    layers.Input(shape=)\n",
        "])"
      ],
      "metadata": {
        "id": "aRSrBRg-5dUe"
      },
      "execution_count": null,
      "outputs": []
    },
    {
      "cell_type": "code",
      "execution_count": null,
      "metadata": {
        "id": "Xe7RXH3N3CWU"
      },
      "outputs": [],
      "source": [
        "# RUN THIS CELL TO TEST YOUR MODEL. DO NOT MODIFY CONTENTS.\n",
        "# Test model by checking how well the model generalizes using the test set.\n",
        "loss, mae, mse = model.evaluate(test_dataset, test_labels, verbose=2)\n",
        "\n",
        "print(\"Testing set Mean Abs Error: {:5.2f} expenses\".format(mae))\n",
        "\n",
        "if mae < 3500:\n",
        "  print(\"You passed the challenge. Great job!\")\n",
        "else:\n",
        "  print(\"The Mean Abs Error must be less than 3500. Keep trying.\")\n",
        "\n",
        "# Plot predictions.\n",
        "test_predictions = model.predict(test_dataset).flatten()\n",
        "\n",
        "a = plt.axes(aspect='equal')\n",
        "plt.scatter(test_labels, test_predictions)\n",
        "plt.xlabel('True values (expenses)')\n",
        "plt.ylabel('Predictions (expenses)')\n",
        "lims = [0, 50000]\n",
        "plt.xlim(lims)\n",
        "plt.ylim(lims)\n",
        "_ = plt.plot(lims,lims)\n"
      ]
    }
  ],
  "metadata": {
    "colab": {
      "name": "fcc_predict_health_costs_with_regression.ipynb",
      "private_outputs": true,
      "provenance": [],
      "toc_visible": true,
      "include_colab_link": true
    },
    "kernelspec": {
      "display_name": "Python 3",
      "name": "python3"
    }
  },
  "nbformat": 4,
  "nbformat_minor": 0
}